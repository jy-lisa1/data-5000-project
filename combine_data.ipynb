{
 "cells": [
  {
   "cell_type": "markdown",
   "id": "663372c4",
   "metadata": {},
   "source": [
    "## Combines data from all years (1999-2021) into one big file"
   ]
  },
  {
   "cell_type": "code",
   "execution_count": null,
   "id": "69c260f2",
   "metadata": {},
   "outputs": [],
   "source": [
    "import pandas as pd\n",
    "from pathlib import Path"
   ]
  },
  {
   "cell_type": "code",
   "execution_count": null,
   "id": "fcd0b0ef",
   "metadata": {},
   "outputs": [],
   "source": [
    "columns = [\n",
    "    \"C_YEAR\",\"C_MNTH\",\"C_WDAY\",\"C_HOUR\",\"C_SEV\",\"C_VEHS\",\"C_CONF\",\"C_RCFG\",\n",
    "    \"C_WTHR\",\"C_RSUR\",\"C_RALN\",\"C_TRAF\",\"V_ID\",\"V_TYPE\",\"V_YEAR\",\"P_ID\",\n",
    "    \"P_SEX\",\"P_AGE\",\"P_PSN\",\"P_ISEV\",\"P_SAFE\",\"P_USER\",\"C_CASE\"\n",
    "]\n",
    "\n",
    "df = pd.DataFrame(columns=columns)"
   ]
  },
  {
   "cell_type": "code",
   "execution_count": null,
   "id": "3f7cd6f0",
   "metadata": {},
   "outputs": [],
   "source": [
    "\n",
    "def read_file(file_path, columns=None):\n",
    "    ext = Path(file_path).suffix.lower()\n",
    "\n",
    "    if ext == '.csv':\n",
    "        sample = pd.read_csv(file_path, nrows=1, header=None)\n",
    "    elif ext in ['.xls', '.xlsx']:\n",
    "        sample = pd.read_excel(file_path, nrows=1, header=None)\n",
    "    else:\n",
    "        raise ValueError(f\"Unsupported file type: {file_path}\")\n",
    "\n",
    "    c_year_index = None\n",
    "    for i, val in enumerate(sample.iloc[0]):\n",
    "        if str(val).strip().upper() == \"C_YEAR\":\n",
    "            c_year_index = i\n",
    "            break\n",
    "\n",
    "    # determine whether to ignore headers (some files have headers, some don't)\n",
    "    has_header = c_year_index is not None\n",
    "\n",
    "    header = 0 if has_header else None\n",
    "    names = None if has_header else columns\n",
    "\n",
    "    if ext == '.csv':\n",
    "        return pd.read_csv(file_path, header=header, names=names)\n",
    "    else:\n",
    "        return pd.read_excel(file_path, header=header, names=names)\n",
    "\n",
    "df_combined = pd.DataFrame(columns=columns)\n",
    "\n",
    "for f in Path(\"data/raw\").iterdir():\n",
    "    print(f)\n",
    "    if f.suffix.lower() in ['.csv', '.xlsx']:\n",
    "        df_combined = pd.concat([df_combined, read_file(f)], ignore_index=True)"
   ]
  },
  {
   "cell_type": "code",
   "execution_count": null,
   "id": "822129f9",
   "metadata": {},
   "outputs": [],
   "source": [
    "data_dir = Path('data')\n",
    "df_combined.to_csv(data_dir / 'combined_data.csv', index=False)"
   ]
  },
  {
   "cell_type": "code",
   "execution_count": null,
   "id": "5ed583c0",
   "metadata": {},
   "outputs": [],
   "source": [
    "df_combined.shape # should be (4677921, 23) I think"
   ]
  }
 ],
 "metadata": {
  "kernelspec": {
   "display_name": "Python 3",
   "language": "python",
   "name": "python3"
  },
  "language_info": {
   "codemirror_mode": {
    "name": "ipython",
    "version": 3
   },
   "file_extension": ".py",
   "mimetype": "text/x-python",
   "name": "python",
   "nbconvert_exporter": "python",
   "pygments_lexer": "ipython3",
   "version": "3.10.5"
  }
 },
 "nbformat": 4,
 "nbformat_minor": 5
}
