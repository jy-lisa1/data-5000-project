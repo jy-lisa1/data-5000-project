{
 "cells": [
  {
   "cell_type": "markdown",
   "id": "f6686a85",
   "metadata": {},
   "source": [
    "#### This file cleans up the misc. values in our dataframe, and converts columns to the correct type since some columns have mixed value types (e.g. '1' vs 1). This also helps us save on memory. We can figure out what to do with the missing values later."
   ]
  },
  {
   "cell_type": "code",
   "execution_count": 1,
   "id": "e648a60d",
   "metadata": {},
   "outputs": [],
   "source": [
    "import pandas as pd"
   ]
  },
  {
   "cell_type": "code",
   "execution_count": 2,
   "id": "21dc65b4",
   "metadata": {},
   "outputs": [
    {
     "name": "stderr",
     "output_type": "stream",
     "text": [
      "C:\\Users\\jylis\\AppData\\Local\\Temp\\ipykernel_19296\\1196999976.py:1: DtypeWarning: Columns (1,2,5,12) have mixed types. Specify dtype option on import or set low_memory=False.\n",
      "  df = pd.read_csv('data/combined_data.csv')\n"
     ]
    }
   ],
   "source": [
    "df = pd.read_csv('data/combined_data.csv')"
   ]
  },
  {
   "cell_type": "code",
   "execution_count": 11,
   "id": "0f329c0d",
   "metadata": {},
   "outputs": [
    {
     "data": {
      "text/plain": [
       "C_YEAR     int64\n",
       "C_MNTH    object\n",
       "C_WDAY    object\n",
       "C_HOUR    object\n",
       "C_SEV      int64\n",
       "C_VEHS    object\n",
       "C_CONF    object\n",
       "C_RCFG    object\n",
       "C_WTHR    object\n",
       "C_RSUR    object\n",
       "C_RALN    object\n",
       "C_TRAF    object\n",
       "V_ID      object\n",
       "V_TYPE    object\n",
       "V_YEAR    object\n",
       "P_ID      object\n",
       "P_SEX     object\n",
       "P_AGE     object\n",
       "P_PSN     object\n",
       "P_ISEV    object\n",
       "P_SAFE    object\n",
       "P_USER    object\n",
       "C_CASE     int64\n",
       "dtype: object"
      ]
     },
     "execution_count": 11,
     "metadata": {},
     "output_type": "execute_result"
    }
   ],
   "source": [
    "df.dtypes"
   ]
  },
  {
   "cell_type": "code",
   "execution_count": 12,
   "id": "eeba24ec",
   "metadata": {},
   "outputs": [
    {
     "data": {
      "text/plain": [
       "(4677921, 23)"
      ]
     },
     "execution_count": 12,
     "metadata": {},
     "output_type": "execute_result"
    }
   ],
   "source": [
    "df.shape"
   ]
  },
  {
   "cell_type": "code",
   "execution_count": 26,
   "id": "9a368860",
   "metadata": {},
   "outputs": [],
   "source": [
    "# some helper functions\n",
    "\n",
    "def convert_to_nan(column: str, unknown_strings: list[str]):\n",
    "    \"\"\"Convert unknown values from string (e.g. \"UU\") to NaN.\"\"\"\n",
    "    df[column] = df[column].replace(unknown_strings, pd.NA)\n",
    "\n",
    "def convert_to_int(column):\n",
    "    \"\"\"Convert column to specified dtype.\"\"\"\n",
    "    df[column] = pd.to_numeric(df[column], errors='coerce').astype('Int64')"
   ]
  },
  {
   "cell_type": "code",
   "execution_count": null,
   "id": "79f68085",
   "metadata": {},
   "outputs": [
    {
     "data": {
      "text/plain": [
       "<IntegerArray>\n",
       "[1, 2, 3, 4, 5, 6, 7, 8, 9, 10, 11, 12, <NA>]\n",
       "Length: 13, dtype: Int64"
      ]
     },
     "execution_count": 30,
     "metadata": {},
     "output_type": "execute_result"
    }
   ],
   "source": [
    "convert_to_nan('C_MNTH', ['UU']) # month\n",
    "convert_to_int('C_MNTH')\n",
    "df.C_MNTH.unique()"
   ]
  },
  {
   "cell_type": "code",
   "execution_count": null,
   "id": "1e229c26",
   "metadata": {},
   "outputs": [
    {
     "data": {
      "text/plain": [
       "<IntegerArray>\n",
       "[1, 2, 3, 4, 5, 6, 7, <NA>]\n",
       "Length: 8, dtype: Int64"
      ]
     },
     "execution_count": 32,
     "metadata": {},
     "output_type": "execute_result"
    }
   ],
   "source": [
    "convert_to_nan('C_WDAY', ['U']) # day of week\n",
    "convert_to_int('C_WDAY')\n",
    "df.C_WDAY.unique()"
   ]
  },
  {
   "cell_type": "code",
   "execution_count": 34,
   "id": "2cccd818",
   "metadata": {},
   "outputs": [
    {
     "data": {
      "text/plain": [
       "<IntegerArray>\n",
       "[  18,   19,   12,   13,   11,   15,    9,   20,   17,    8,   14,    7,   10,\n",
       "   16,   22, <NA>,   21,    0,    2,    6,    4,    5,   23,    1,    3]\n",
       "Length: 25, dtype: Int64"
      ]
     },
     "execution_count": 34,
     "metadata": {},
     "output_type": "execute_result"
    }
   ],
   "source": [
    "convert_to_nan('C_HOUR', ['UU']) # hour of day\n",
    "convert_to_int('C_HOUR')\n",
    "df.C_HOUR.unique()"
   ]
  },
  {
   "cell_type": "code",
   "execution_count": null,
   "id": "a8127c54",
   "metadata": {},
   "outputs": [
    {
     "data": {
      "text/plain": [
       "<IntegerArray>\n",
       "[   1,    2,    4,    3,    5,    6, <NA>,    7,    9,   19,   10,    8,   11,\n",
       "   14,   77,   28,   15,   18,   38,   16,   12,   13,   17,   32,   21,   22,\n",
       "   35,   33,   54,   20,   72,   40,   44,   26,   58,   30,   36,   24,   34,\n",
       "   39,   51,   57,   43,   37,   31,   47,   59,   27,   25,   23,   45,   70]\n",
       "Length: 52, dtype: Int64"
      ]
     },
     "execution_count": 37,
     "metadata": {},
     "output_type": "execute_result"
    }
   ],
   "source": [
    "convert_to_nan('C_VEHS', ['UU', '**']) # vehicles involved\n",
    "convert_to_int('C_VEHS')\n",
    "df.C_VEHS.unique()"
   ]
  },
  {
   "cell_type": "code",
   "execution_count": 39,
   "id": "6ec0a3a9",
   "metadata": {},
   "outputs": [
    {
     "data": {
      "text/plain": [
       "<IntegerArray>\n",
       "[2, 22, 35, 21, <NA>, 3, 33, 31, 32, 4, 6, 1, 5, 23, 24, 41, 34, 36, 25]\n",
       "Length: 19, dtype: Int64"
      ]
     },
     "execution_count": 39,
     "metadata": {},
     "output_type": "execute_result"
    }
   ],
   "source": [
    "convert_to_nan('C_CONF', ['UU', 'QQ']) # collision configuration\n",
    "convert_to_int('C_CONF')\n",
    "df.C_CONF.unique()"
   ]
  },
  {
   "cell_type": "code",
   "execution_count": 41,
   "id": "c6d38c75",
   "metadata": {},
   "outputs": [
    {
     "data": {
      "text/plain": [
       "<IntegerArray>\n",
       "[<NA>, 2, 3, 1, 4, 6, 5, 7, 8, 9, 10]\n",
       "Length: 11, dtype: Int64"
      ]
     },
     "execution_count": 41,
     "metadata": {},
     "output_type": "execute_result"
    }
   ],
   "source": [
    "convert_to_nan('C_RCFG', ['UU', 'QQ']) # collision road configuration\n",
    "convert_to_int('C_RCFG')\n",
    "df.C_RCFG.unique()"
   ]
  },
  {
   "cell_type": "code",
   "execution_count": 43,
   "id": "12a6f2f5",
   "metadata": {},
   "outputs": [
    {
     "data": {
      "text/plain": [
       "<IntegerArray>\n",
       "[1, 2, 6, 4, 3, 5, <NA>, 7]\n",
       "Length: 8, dtype: Int64"
      ]
     },
     "execution_count": 43,
     "metadata": {},
     "output_type": "execute_result"
    }
   ],
   "source": [
    "convert_to_nan('C_WTHR', ['U', 'Q']) # weather\n",
    "convert_to_int('C_WTHR')\n",
    "df.C_WTHR.unique() "
   ]
  },
  {
   "cell_type": "code",
   "execution_count": 45,
   "id": "fc73de22",
   "metadata": {},
   "outputs": [
    {
     "data": {
      "text/plain": [
       "<IntegerArray>\n",
       "[3, 5, 1, 4, 2, <NA>, 7, 6, 8, 9]\n",
       "Length: 10, dtype: Int64"
      ]
     },
     "execution_count": 45,
     "metadata": {},
     "output_type": "execute_result"
    }
   ],
   "source": [
    "convert_to_nan('C_RSUR', ['U', 'Q']) # road surface\n",
    "convert_to_int('C_RSUR')\n",
    "df.C_RSUR.unique()"
   ]
  },
  {
   "cell_type": "code",
   "execution_count": 48,
   "id": "6b6733f7",
   "metadata": {},
   "outputs": [
    {
     "data": {
      "text/plain": [
       "<IntegerArray>\n",
       "[2, 1, 4, 3, <NA>, 5, 6]\n",
       "Length: 7, dtype: Int64"
      ]
     },
     "execution_count": 48,
     "metadata": {},
     "output_type": "execute_result"
    }
   ],
   "source": [
    "convert_to_nan('C_RALN', ['U', 'Q']) # road alignment\n",
    "convert_to_int('C_RALN')\n",
    "df.C_RALN.unique()"
   ]
  },
  {
   "cell_type": "code",
   "execution_count": 50,
   "id": "4a19a68b",
   "metadata": {},
   "outputs": [
    {
     "data": {
      "text/plain": [
       "<IntegerArray>\n",
       "[18, <NA>, 1, 3, 6, 11, 16, 4, 5, 15, 8, 2, 13, 7, 17, 9, 10, 12]\n",
       "Length: 18, dtype: Int64"
      ]
     },
     "execution_count": 50,
     "metadata": {},
     "output_type": "execute_result"
    }
   ],
   "source": [
    "convert_to_nan('C_TRAF', ['UU', 'QQ']) # traffic control\n",
    "convert_to_int('C_TRAF')\n",
    "df.C_TRAF.unique()"
   ]
  },
  {
   "cell_type": "code",
   "execution_count": 52,
   "id": "f1ae9956",
   "metadata": {},
   "outputs": [
    {
     "data": {
      "text/plain": [
       "<IntegerArray>\n",
       "[   1,    2,    3,    4,   99,    5,    6,    7,    8,    9,   10,   11,   12,\n",
       "   13,   14,   15,   16,   17,   18,   19,   20,   21,   22,   23,   24,   25,\n",
       "   26,   27,   28,   29,   30,   31,   32,   33,   34,   35,   36,   37,   38,\n",
       "   39,   40,   41,   42,   43,   44,   45,   46,   47,   48,   49,   50,   51,\n",
       "   52,   53,   54,   55,   56,   57,   58,   59,   60,   61,   62,   63,   64,\n",
       "   65,   66,   67,   68,   69,   70,   71,   72,   73,   74,   83,   85,   86,\n",
       " <NA>,   75,   76,   77,   79,   81,   87,   89,    0]\n",
       "Length: 87, dtype: Int64"
      ]
     },
     "execution_count": 52,
     "metadata": {},
     "output_type": "execute_result"
    }
   ],
   "source": [
    "convert_to_nan('V_ID', ['UU', '*']) # vehicle sequence number\n",
    "convert_to_int('V_ID')\n",
    "df.V_ID.unique()"
   ]
  },
  {
   "cell_type": "code",
   "execution_count": 57,
   "id": "0513f399",
   "metadata": {},
   "outputs": [
    {
     "data": {
      "text/plain": [
       "<IntegerArray>\n",
       "[22, 1, 5, 8, 24, 7, <NA>, 6, 19, 11, 20, 17, 9, 21, 16, 14, 18, 23, 10]\n",
       "Length: 19, dtype: Int64"
      ]
     },
     "execution_count": 57,
     "metadata": {},
     "output_type": "execute_result"
    }
   ],
   "source": [
    "convert_to_nan('V_TYPE', ['UU', 'QQ', 'NN']) # vehicle type\n",
    "convert_to_int('V_TYPE')\n",
    "df.V_TYPE.unique()"
   ]
  },
  {
   "cell_type": "code",
   "execution_count": 56,
   "id": "efc741fa",
   "metadata": {},
   "outputs": [
    {
     "data": {
      "text/plain": [
       "<IntegerArray>\n",
       "[2000, <NA>, 2001, 2003, 2004, 1994, 1989, 1995, 1997, 2002,\n",
       " ...\n",
       " 2013, 2014, 2015, 2016, 2017, 2018, 2019, 2020, 2021, 2022]\n",
       "Length: 113, dtype: Int64"
      ]
     },
     "execution_count": 56,
     "metadata": {},
     "output_type": "execute_result"
    }
   ],
   "source": [
    "convert_to_nan('V_YEAR', ['UUUU']) # vehicle year\n",
    "convert_to_int('V_YEAR')\n",
    "df.V_YEAR.unique()"
   ]
  },
  {
   "cell_type": "code",
   "execution_count": 63,
   "id": "0c38d429",
   "metadata": {},
   "outputs": [
    {
     "data": {
      "text/plain": [
       "<IntegerArray>\n",
       "[   1,    2,    3,    4,    5,    6,    7,    8,    9,   10,   11,   12,   13,\n",
       "   14,   15,   16,   17,   18,   19,   20,   21,   22,   23,   24,   25,   26,\n",
       "   27,   28,   29,   30,   31,   32,   33,   34,   35,   36,   37,   38,   39,\n",
       "   40,   41, <NA>,   42,   43,   44,   45,   46,   47,   48,   49,   50,   51,\n",
       "   52,   53,   54,   55,   56,   57,   58,   59,   60,   99,   61,   62,   63,\n",
       "   64,   65,   66,   67,   68,   69,   70,   71,   72,   73,   74,   75,   76,\n",
       "   77,   78,   79,   80,   81,   82,   83,   84,   85,   86,   87,   88,   89,\n",
       "   90,   91,   92,   93,    0]\n",
       "Length: 96, dtype: Int64"
      ]
     },
     "execution_count": 63,
     "metadata": {},
     "output_type": "execute_result"
    }
   ],
   "source": [
    "convert_to_nan('P_ID', ['UU', 'NN']) # person sequence number\n",
    "convert_to_int('P_ID')\n",
    "df.P_ID.unique()"
   ]
  },
  {
   "cell_type": "code",
   "execution_count": 62,
   "id": "1915f8ac",
   "metadata": {},
   "outputs": [
    {
     "data": {
      "text/plain": [
       "array(['M', 'F', <NA>], dtype=object)"
      ]
     },
     "execution_count": 62,
     "metadata": {},
     "output_type": "execute_result"
    }
   ],
   "source": [
    "convert_to_nan('P_SEX', ['N', 'U']) # sex\n",
    "df.P_SEX.unique()"
   ]
  },
  {
   "cell_type": "code",
   "execution_count": 65,
   "id": "21109aa7",
   "metadata": {},
   "outputs": [
    {
     "data": {
      "text/plain": [
       "<IntegerArray>\n",
       "[  15,   16,   19,   24,    3,   41,   45,   33,   58,   54,   32,   74, <NA>,\n",
       "   57,   40,   31,   60,   23,   56,   47,   25,   53,   59,   84,   82,   61,\n",
       "   68,   55,   29,   44,   52,   28,    8,   75,   50,   48,   27,   94,   22,\n",
       "   76,   20,   21,   42,    4,   77,   49,   18,   38,   11,   46,   17,   81,\n",
       "   26,   30,   39,   10,    5,   43,   72,   35,   71,   37,   83,   86,   73,\n",
       "   36,   34,   65,   62,   70,   66,   64,   63,   95,   69,   79,   80,    7,\n",
       "    1,    2,   14,   13,   12,   51,   92,   67,    6,   87,   78,   91,    9,\n",
       "   88,   85,   89,   90,   98,   96,   93,   97,   99]\n",
       "Length: 100, dtype: Int64"
      ]
     },
     "execution_count": 65,
     "metadata": {},
     "output_type": "execute_result"
    }
   ],
   "source": [
    "convert_to_nan('P_AGE', ['UU', 'NN']) # age\n",
    "convert_to_int('P_AGE')\n",
    "df.P_AGE.unique()"
   ]
  },
  {
   "cell_type": "code",
   "execution_count": 67,
   "id": "29cb797c",
   "metadata": {},
   "outputs": [
    {
     "data": {
      "text/plain": [
       "<IntegerArray>\n",
       "[12, 11, 22, 13, 98, 21, 99, 23, <NA>, 96, 32, 31, 33, 97]\n",
       "Length: 14, dtype: Int64"
      ]
     },
     "execution_count": 67,
     "metadata": {},
     "output_type": "execute_result"
    }
   ],
   "source": [
    "convert_to_nan('P_PSN', ['UU', 'NN', 'QQ']) # person's position\n",
    "convert_to_int('P_PSN')\n",
    "df.P_PSN.unique()"
   ]
  },
  {
   "cell_type": "code",
   "execution_count": 69,
   "id": "6017ce77",
   "metadata": {},
   "outputs": [
    {
     "data": {
      "text/plain": [
       "<IntegerArray>\n",
       "[2, 1, <NA>, 3]\n",
       "Length: 4, dtype: Int64"
      ]
     },
     "execution_count": 69,
     "metadata": {},
     "output_type": "execute_result"
    }
   ],
   "source": [
    "convert_to_nan('P_ISEV', ['U', 'N']) # injury severity\n",
    "convert_to_int('P_ISEV')\n",
    "df.P_ISEV.unique()"
   ]
  },
  {
   "cell_type": "code",
   "execution_count": 72,
   "id": "64e58ca6",
   "metadata": {},
   "outputs": [
    {
     "data": {
      "text/plain": [
       "<IntegerArray>\n",
       "[13, <NA>, 1, 2, 12, 9, 10, 11]\n",
       "Length: 8, dtype: Int64"
      ]
     },
     "execution_count": 72,
     "metadata": {},
     "output_type": "execute_result"
    }
   ],
   "source": [
    "convert_to_nan('P_SAFE', ['UU', 'NN', 'QQ']) # safety precautions taken\n",
    "convert_to_int('P_SAFE')\n",
    "df.P_SAFE.unique()"
   ]
  },
  {
   "cell_type": "code",
   "execution_count": 74,
   "id": "9174407c",
   "metadata": {},
   "outputs": [
    {
     "data": {
      "text/plain": [
       "<IntegerArray>\n",
       "[<NA>, 1, 2, 3, 4, 5]\n",
       "Length: 6, dtype: Int64"
      ]
     },
     "execution_count": 74,
     "metadata": {},
     "output_type": "execute_result"
    }
   ],
   "source": [
    "convert_to_nan('P_USER', ['U']) # road user class\n",
    "convert_to_int('P_USER')\n",
    "df.P_USER.unique()"
   ]
  },
  {
   "cell_type": "code",
   "execution_count": 75,
   "id": "c0d507df",
   "metadata": {},
   "outputs": [
    {
     "data": {
      "text/plain": [
       "C_YEAR     int64\n",
       "C_MNTH     Int64\n",
       "C_WDAY     Int64\n",
       "C_HOUR     Int64\n",
       "C_SEV      int64\n",
       "C_VEHS     Int64\n",
       "C_CONF     Int64\n",
       "C_RCFG     Int64\n",
       "C_WTHR     Int64\n",
       "C_RSUR     Int64\n",
       "C_RALN     Int64\n",
       "C_TRAF     Int64\n",
       "V_ID       Int64\n",
       "V_TYPE     Int64\n",
       "V_YEAR     Int64\n",
       "P_ID       Int64\n",
       "P_SEX     object\n",
       "P_AGE      Int64\n",
       "P_PSN      Int64\n",
       "P_ISEV     Int64\n",
       "P_SAFE     Int64\n",
       "P_USER     Int64\n",
       "C_CASE     int64\n",
       "dtype: object"
      ]
     },
     "execution_count": 75,
     "metadata": {},
     "output_type": "execute_result"
    }
   ],
   "source": [
    "df.dtypes"
   ]
  },
  {
   "cell_type": "code",
   "execution_count": null,
   "id": "755c5e47",
   "metadata": {},
   "outputs": [],
   "source": [
    "df.to_csv('data/cleaned_data.csv', index=False)"
   ]
  }
 ],
 "metadata": {
  "kernelspec": {
   "display_name": "Python 3",
   "language": "python",
   "name": "python3"
  },
  "language_info": {
   "codemirror_mode": {
    "name": "ipython",
    "version": 3
   },
   "file_extension": ".py",
   "mimetype": "text/x-python",
   "name": "python",
   "nbconvert_exporter": "python",
   "pygments_lexer": "ipython3",
   "version": "3.10.5"
  }
 },
 "nbformat": 4,
 "nbformat_minor": 5
}
